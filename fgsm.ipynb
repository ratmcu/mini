{
 "cells": [
  {
   "cell_type": "code",
   "execution_count": 8,
   "metadata": {
    "collapsed": true
   },
   "outputs": [],
   "source": [
    "%matplotlib inline\n",
    "import numpy as np\n",
    "import torch\n",
    "from torch import nn\n",
    "import torch.nn.functional as F\n",
    "from torch import optim\n",
    "from torch.autograd import Variable\n",
    "from torchvision import datasets, transforms\n",
    "import torch.nn as nn\n",
    "import models.cnn\n",
    "import matplotlib.pyplot as plt\n",
    "import matplotlib.image as mpimg"
   ]
  },
  {
   "cell_type": "code",
   "execution_count": 2,
   "metadata": {},
   "outputs": [
    {
     "name": "stdout",
     "output_type": "stream",
     "text": [
      "Downloading http://yann.lecun.com/exdb/mnist/train-images-idx3-ubyte.gz\n",
      "Downloading http://yann.lecun.com/exdb/mnist/train-labels-idx1-ubyte.gz\n",
      "Downloading http://yann.lecun.com/exdb/mnist/t10k-images-idx3-ubyte.gz\n",
      "Downloading http://yann.lecun.com/exdb/mnist/t10k-labels-idx1-ubyte.gz\n",
      "Processing...\n",
      "Done!\n",
      "Epoch [1/5], Step [100/469], Loss: 0.1156\n",
      "Epoch [1/5], Step [200/469], Loss: 0.0567\n",
      "Epoch [1/5], Step [300/469], Loss: 0.0358\n",
      "Epoch [1/5], Step [400/469], Loss: 0.0329\n",
      "Epoch [2/5], Step [100/469], Loss: 0.0277\n",
      "Epoch [2/5], Step [200/469], Loss: 0.0211\n",
      "Epoch [2/5], Step [300/469], Loss: 0.0160\n",
      "Epoch [2/5], Step [400/469], Loss: 0.0181\n",
      "Epoch [3/5], Step [100/469], Loss: 0.0275\n",
      "Epoch [3/5], Step [200/469], Loss: 0.0145\n",
      "Epoch [3/5], Step [300/469], Loss: 0.0160\n",
      "Epoch [3/5], Step [400/469], Loss: 0.0140\n",
      "Epoch [4/5], Step [100/469], Loss: 0.0095\n",
      "Epoch [4/5], Step [200/469], Loss: 0.0100\n",
      "Epoch [4/5], Step [300/469], Loss: 0.0140\n",
      "Epoch [4/5], Step [400/469], Loss: 0.0084\n",
      "Epoch [5/5], Step [100/469], Loss: 0.0089\n",
      "Epoch [5/5], Step [200/469], Loss: 0.0094\n",
      "Epoch [5/5], Step [300/469], Loss: 0.0107\n",
      "Epoch [5/5], Step [400/469], Loss: 0.0044\n"
     ]
    }
   ],
   "source": [
    "batch_size = 128\n",
    "train_loader = torch.utils.data.DataLoader(\n",
    "  datasets.MNIST('data', train=True, download=True,\n",
    "                 transform=transforms.ToTensor()),\n",
    "  batch_size=batch_size, shuffle=True)\n",
    "\n",
    "input_size = 784\n",
    "num_classes = 10\n",
    "num_epochs = 5\n",
    "batch_size = 100\n",
    "learning_rate = 0.001\n",
    "hp = {'input_size':input_size,\n",
    "      'num_classes':num_classes,\n",
    "      'num_epochs':num_epochs,\n",
    "      'batch_size':batch_size ,\n",
    "      'learning_rate':learning_rate,\n",
    "      'hidden_n':1000}\n",
    "\n",
    "cnn = models.cnn.ConvNet(hp) # models/cnn.py could be edited to change the network\n",
    "cnn.train(train_loader)"
   ]
  },
  {
   "cell_type": "code",
   "execution_count": 9,
   "metadata": {
    "collapsed": true
   },
   "outputs": [],
   "source": [
    "mnist_dataset = datasets.MNIST('data', train=True, download=True, transform=transforms.ToTensor())"
   ]
  },
  {
   "cell_type": "code",
   "execution_count": 10,
   "metadata": {},
   "outputs": [
    {
     "data": {
      "image/png": "[encoded data removed]",
      "text/plain": [
       "<matplotlib.figure.Figure at 0x7f77c41c4eb8>"
      ]
     },
     "metadata": {},
     "output_type": "display_data"
    }
   ],
   "source": [
    "e,l = mnist_dataset[333]\n",
    "t = e.view(28,28).numpy()\n",
    "x = torch.tensor(e, requires_grad=True)\n",
    "imgplot = plt.imshow(t, cmap='gray')\n"
   ]
  },
  {
   "cell_type": "code",
   "execution_count": 11,
   "metadata": {},
   "outputs": [
    {
     "data": {
      "image/png": "[encoded data removed]",
      "text/plain": [
       "<matplotlib.figure.Figure at 0x7f77c4098a90>"
      ]
     },
     "metadata": {},
     "output_type": "display_data"
    }
   ],
   "source": [
    "ep = 0.3\n",
    "softmax = nn.Softmax(dim = 1)\n",
    "y = cnn(x.view(-1, 1, 28, 28))# type(p)\n",
    "loss = ((y - l.item()).norm()**2)\n",
    "loss.backward()\n",
    "eta = ep*x.grad.data.sign()\n",
    "x_ = torch.clamp(x+eta, 0, 1).detach()\n",
    "img = x_.view(28, 28).numpy()\n",
    "imgplot = plt.imshow(img, cmap='gray')\n",
    "z = cnn(x_.view(-1, 1, 28, 28))"
   ]
  },
  {
   "cell_type": "code",
   "execution_count": 12,
   "metadata": {},
   "outputs": [
    {
     "data": {
      "text/plain": [
       "8"
      ]
     },
     "execution_count": 12,
     "metadata": {},
     "output_type": "execute_result"
    }
   ],
   "source": [
    "correct = softmax(y.detach())\n",
    "adversary = softmax(z.detach())\n",
    "correct.max(1)[1].item()"
   ]
  },
  {
   "cell_type": "code",
   "execution_count": 13,
   "metadata": {},
   "outputs": [
    {
     "data": {
      "image/png": "[encoded data removed]",
      "text/plain": [
       "<matplotlib.figure.Figure at 0x7f77c0b0acc0>"
      ]
     },
     "metadata": {},
     "output_type": "display_data"
    }
   ],
   "source": [
    "plt.xticks(range(0,10))\n",
    "plt.ylim(0,1)\n",
    "line = plt.plot(correct.view(10,-1).numpy(), 'b-', label='correct')\n",
    "plt.xlabel(\"classes\")\n",
    "plt.ylabel(\"probability\")\n",
    "line = plt.plot(adversary.view(10,-1).numpy(), 'r-', label='adversary')\n",
    "plt.legend()\n",
    "plt.savefig('fig1.png')\n",
    "plt.show()"
   ]
  },
  {
   "cell_type": "code",
   "execution_count": 258,
   "metadata": {},
   "outputs": [
    {
     "data": {
      "image/png": "[encoded data removed]",
      "text/plain": [
       "<matplotlib.figure.Figure at 0x7f613b1bfeb8>"
      ]
     },
     "metadata": {},
     "output_type": "display_data"
    }
   ],
   "source": [
    "#get good adversaries\n",
    "mnist_dataset = datasets.MNIST('data', train=False, download=True, transform=transforms.ToTensor())\n",
    "e,l = mnist_dataset[333]\n",
    "t = e.view(28,28).numpy()\n",
    "x = torch.tensor(e, requires_grad=True)\n",
    "imgplot = plt.imshow(t, cmap='gray')\n",
    "ep = 0.3\n",
    "softmax = nn.Softmax(dim = 1)\n",
    "y = cnn(x.view(-1, 1, 28, 28))# type(p)\n",
    "loss = ((y - l.item()).norm()**2)\n",
    "loss.backward()\n",
    "eta = ep*x.grad.data.sign()\n",
    "x_ = torch.clamp(x+eta, 0, 1).detach()\n",
    "img = x_.view(28, 28).numpy()\n",
    "imgplot = plt.imshow(img, cmap='gray')\n",
    "z = cnn(x_.view(-1, 1, 28, 28))\n",
    "correct = softmax(y.detach())\n",
    "adversary = softmax(z.detach())\n",
    "if correct.max(1)[1].item() != adversary.max(1)[1].item():\n",
    "    "
   ]
  },
  {
   "cell_type": "code",
   "execution_count": 262,
   "metadata": {
    "collapsed": true
   },
   "outputs": [
    {
     "data": {
      "text/plain": [
       "(tensor([[[ 0.0000,  0.0000,  0.0000,  0.0000,  0.0000,  0.0000,  0.0000,\n",
       "            0.0000,  0.0000,  0.0000,  0.0000,  0.0000,  0.0000,  0.0000,\n",
       "            0.0000,  0.0000,  0.0000,  0.0000,  0.0000,  0.0000,  0.0000,\n",
       "            0.0000,  0.0000,  0.0000,  0.0000,  0.0000,  0.0000,  0.0000],\n",
       "          [ 0.0000,  0.0000,  0.0000,  0.0000,  0.0000,  0.0000,  0.0000,\n",
       "            0.0000,  0.0000,  0.0000,  0.0000,  0.0000,  0.0000,  0.0000,\n",
       "            0.0000,  0.0000,  0.0000,  0.0000,  0.0000,  0.0000,  0.0000,\n",
       "            0.0000,  0.0000,  0.0000,  0.0000,  0.0000,  0.0000,  0.0000],\n",
       "          [ 0.0000,  0.0000,  0.0000,  0.0000,  0.0000,  0.0000,  0.0000,\n",
       "            0.0000,  0.0000,  0.0000,  0.0000,  0.0000,  0.0000,  0.0000,\n",
       "            0.0000,  0.0000,  0.0000,  0.0314,  0.4588,  0.9961,  0.8627,\n",
       "            0.3490,  0.0000,  0.0000,  0.0000,  0.0000,  0.0000,  0.0000],\n",
       "          [ 0.0000,  0.0000,  0.0000,  0.0000,  0.0000,  0.0000,  0.0000,\n",
       "            0.0000,  0.0000,  0.0000,  0.0000,  0.0000,  0.0000,  0.0000,\n",
       "            0.0000,  0.0510,  0.3725,  0.8314,  0.9922,  0.9922,  0.9922,\n",
       "            0.6157,  0.0000,  0.0000,  0.0000,  0.0000,  0.0000,  0.0000],\n",
       "          [ 0.0000,  0.0000,  0.0000,  0.0000,  0.0000,  0.0000,  0.0000,\n",
       "            0.0000,  0.0000,  0.0000,  0.0000,  0.0000,  0.0000,  0.0627,\n",
       "            0.3725,  0.8196,  0.9922,  0.9922,  0.9922,  0.9608,  0.4902,\n",
       "            0.0706,  0.0000,  0.0000,  0.0000,  0.0000,  0.0000,  0.0000],\n",
       "          [ 0.0000,  0.0000,  0.0000,  0.0000,  0.0000,  0.0000,  0.0000,\n",
       "            0.0000,  0.0000,  0.0000,  0.0000,  0.1569,  0.3765,  0.8078,\n",
       "            0.9922,  0.9961,  0.9922,  0.9922,  0.7765,  0.2510,  0.0000,\n",
       "            0.0000,  0.0000,  0.0000,  0.0000,  0.0000,  0.0000,  0.0000],\n",
       "          [ 0.0000,  0.0000,  0.0000,  0.0000,  0.0000,  0.0000,  0.0000,\n",
       "            0.0000,  0.0000,  0.1725,  0.7137,  0.9412,  0.9922,  0.9922,\n",
       "            0.9922,  0.9961,  0.9922,  0.7765,  0.0941,  0.0000,  0.0000,\n",
       "            0.0000,  0.0000,  0.0000,  0.0000,  0.0000,  0.0000,  0.0000],\n",
       "          [ 0.0000,  0.0000,  0.0000,  0.0000,  0.0000,  0.0000,  0.0000,\n",
       "            0.0000,  0.0000,  0.0588,  0.2353,  0.2353,  0.6588,  0.9922,\n",
       "            0.9922,  0.9961,  0.7843,  0.0902,  0.0000,  0.0000,  0.0000,\n",
       "            0.0000,  0.0000,  0.0000,  0.0000,  0.0000,  0.0000,  0.0000],\n",
       "          [ 0.0000,  0.0000,  0.0000,  0.0000,  0.0000,  0.0000,  0.0000,\n",
       "            0.0000,  0.0000,  0.0000,  0.0000,  0.2745,  0.9686,  0.9922,\n",
       "            0.9922,  0.9608,  0.0824,  0.0000,  0.0000,  0.0000,  0.0000,\n",
       "            0.0000,  0.0000,  0.0000,  0.0000,  0.0000,  0.0000,  0.0000],\n",
       "          [ 0.0000,  0.0000,  0.0000,  0.0000,  0.0000,  0.0000,  0.0000,\n",
       "            0.0000,  0.0000,  0.0000,  0.2941,  0.8118,  0.9922,  0.9922,\n",
       "            0.8118,  0.3608,  0.0000,  0.0000,  0.0000,  0.0000,  0.0000,\n",
       "            0.0000,  0.0000,  0.0000,  0.0000,  0.0000,  0.0000,  0.0000],\n",
       "          [ 0.0000,  0.0000,  0.0000,  0.0000,  0.0000,  0.0000,  0.0000,\n",
       "            0.0000,  0.0000,  0.3098,  0.8588,  0.9922,  0.9922,  0.9922,\n",
       "            0.5412,  0.0000,  0.0000,  0.0000,  0.0000,  0.0000,  0.0000,\n",
       "            0.0000,  0.0000,  0.0000,  0.0000,  0.0000,  0.0000,  0.0000],\n",
       "          [ 0.0000,  0.0000,  0.0000,  0.0000,  0.0000,  0.0000,  0.0000,\n",
       "            0.0000,  0.4118,  0.9804,  0.9922,  0.9922,  0.9922,  0.1333,\n",
       "            0.0039,  0.0000,  0.0000,  0.0000,  0.0000,  0.0000,  0.0000,\n",
       "            0.0000,  0.0000,  0.0000,  0.0000,  0.0000,  0.0000,  0.0000],\n",
       "          [ 0.0000,  0.0000,  0.0000,  0.0000,  0.0000,  0.0000,  0.0000,\n",
       "            0.3725,  0.9961,  0.9961,  0.9961,  0.9961,  0.3686,  0.0000,\n",
       "            0.0000,  0.0000,  0.0000,  0.0000,  0.0118,  0.0510,  0.0510,\n",
       "            0.0510,  0.0314,  0.0000,  0.0000,  0.0000,  0.0000,  0.0000],\n",
       "          [ 0.0000,  0.0000,  0.0000,  0.0000,  0.0000,  0.0000,  0.0000,\n",
       "            0.4196,  0.9922,  0.9922,  0.9922,  0.8000,  0.0588,  0.0000,\n",
       "            0.0000,  0.0000,  0.0000,  0.0824,  0.6510,  0.9922,  0.9922,\n",
       "            0.9922,  0.8314,  0.0980,  0.0000,  0.0000,  0.0000,  0.0000],\n",
       "          [ 0.0000,  0.0000,  0.0000,  0.0000,  0.0000,  0.0000,  0.1294,\n",
       "            0.8510,  0.9922,  0.9922,  0.5176,  0.2510,  0.0000,  0.0000,\n",
       "            0.0706,  0.1686,  0.6157,  0.6706,  0.9922,  0.9922,  0.9922,\n",
       "            0.9922,  0.9922,  0.6275,  0.0078,  0.0000,  0.0000,  0.0000],\n",
       "          [ 0.0000,  0.0000,  0.0000,  0.0000,  0.0000,  0.0118,  0.6510,\n",
       "            0.9922,  0.9922,  0.9490,  0.1922,  0.0667,  0.1922,  0.6196,\n",
       "            0.8235,  0.9961,  0.9922,  0.9922,  0.9922,  0.9922,  0.9922,\n",
       "            0.9922,  0.9922,  0.9922,  0.0431,  0.0000,  0.0000,  0.0000],\n",
       "          [ 0.0000,  0.0000,  0.0000,  0.0000,  0.0000,  0.0392,  0.8902,\n",
       "            0.9922,  0.9922,  0.8118,  0.0588,  0.6745,  0.9922,  0.9922,\n",
       "            0.9922,  0.9961,  0.9686,  0.7882,  0.9922,  0.8235,  0.8235,\n",
       "            0.9922,  0.9922,  0.6863,  0.0157,  0.0000,  0.0000,  0.0000],\n",
       "          [ 0.0000,  0.0000,  0.0000,  0.0000,  0.0000,  0.0392,  0.8941,\n",
       "            0.9922,  0.9922,  0.8784,  0.3412,  0.9490,  0.9922,  0.9922,\n",
       "            0.7216,  0.2353,  0.2118,  0.0353,  0.2353,  0.1373,  0.7137,\n",
       "            0.9922,  0.9922,  0.2039,  0.0000,  0.0000,  0.0000,  0.0000],\n",
       "          [ 0.0000,  0.0000,  0.0000,  0.0000,  0.0000,  0.0510,  0.9922,\n",
       "            0.9922,  0.9922,  0.9922,  0.9059,  0.9922,  0.9922,  0.9922,\n",
       "            0.3647,  0.3373,  0.3373,  0.3373,  0.4275,  0.8510,  0.9922,\n",
       "            0.9922,  0.5255,  0.0196,  0.0000,  0.0000,  0.0000,  0.0000],\n",
       "          [ 0.0000,  0.0000,  0.0000,  0.0000,  0.0000,  0.0078,  0.4510,\n",
       "            0.9922,  0.9922,  0.9922,  0.9922,  0.9922,  0.9922,  0.9922,\n",
       "            0.9922,  0.9961,  0.9922,  0.9922,  0.9922,  0.9922,  0.9922,\n",
       "            0.5255,  0.0196,  0.0000,  0.0000,  0.0000,  0.0000,  0.0000],\n",
       "          [ 0.0000,  0.0000,  0.0000,  0.0000,  0.0000,  0.0000,  0.0118,\n",
       "            0.6510,  0.9922,  0.9922,  0.9922,  0.9922,  0.9922,  0.9922,\n",
       "            0.9922,  0.9961,  0.9922,  0.9922,  0.9922,  0.6863,  0.2039,\n",
       "            0.0196,  0.0000,  0.0000,  0.0000,  0.0000,  0.0000,  0.0000],\n",
       "          [ 0.0000,  0.0000,  0.0000,  0.0000,  0.0000,  0.0000,  0.0000,\n",
       "            0.0275,  0.1373,  0.5176,  0.8824,  0.9922,  0.9922,  0.9922,\n",
       "            0.7647,  0.5176,  0.5176,  0.5176,  0.4314,  0.0157,  0.0000,\n",
       "            0.0000,  0.0000,  0.0000,  0.0000,  0.0000,  0.0000,  0.0000],\n",
       "          [ 0.0000,  0.0000,  0.0000,  0.0000,  0.0000,  0.0000,  0.0000,\n",
       "            0.0000,  0.0000,  0.0000,  0.0000,  0.0000,  0.0000,  0.0000,\n",
       "            0.0000,  0.0000,  0.0000,  0.0000,  0.0000,  0.0000,  0.0000,\n",
       "            0.0000,  0.0000,  0.0000,  0.0000,  0.0000,  0.0000,  0.0000],\n",
       "          [ 0.0000,  0.0000,  0.0000,  0.0000,  0.0000,  0.0000,  0.0000,\n",
       "            0.0000,  0.0000,  0.0000,  0.0000,  0.0000,  0.0000,  0.0000,\n",
       "            0.0000,  0.0000,  0.0000,  0.0000,  0.0000,  0.0000,  0.0000,\n",
       "            0.0000,  0.0000,  0.0000,  0.0000,  0.0000,  0.0000,  0.0000],\n",
       "          [ 0.0000,  0.0000,  0.0000,  0.0000,  0.0000,  0.0000,  0.0000,\n",
       "            0.0000,  0.0000,  0.0000,  0.0000,  0.0000,  0.0000,  0.0000,\n",
       "            0.0000,  0.0000,  0.0000,  0.0000,  0.0000,  0.0000,  0.0000,\n",
       "            0.0000,  0.0000,  0.0000,  0.0000,  0.0000,  0.0000,  0.0000],\n",
       "          [ 0.0000,  0.0000,  0.0000,  0.0000,  0.0000,  0.0000,  0.0000,\n",
       "            0.0000,  0.0000,  0.0000,  0.0000,  0.0000,  0.0000,  0.0000,\n",
       "            0.0000,  0.0000,  0.0000,  0.0000,  0.0000,  0.0000,  0.0000,\n",
       "            0.0000,  0.0000,  0.0000,  0.0000,  0.0000,  0.0000,  0.0000],\n",
       "          [ 0.0000,  0.0000,  0.0000,  0.0000,  0.0000,  0.0000,  0.0000,\n",
       "            0.0000,  0.0000,  0.0000,  0.0000,  0.0000,  0.0000,  0.0000,\n",
       "            0.0000,  0.0000,  0.0000,  0.0000,  0.0000,  0.0000,  0.0000,\n",
       "            0.0000,  0.0000,  0.0000,  0.0000,  0.0000,  0.0000,  0.0000],\n",
       "          [ 0.0000,  0.0000,  0.0000,  0.0000,  0.0000,  0.0000,  0.0000,\n",
       "            0.0000,  0.0000,  0.0000,  0.0000,  0.0000,  0.0000,  0.0000,\n",
       "            0.0000,  0.0000,  0.0000,  0.0000,  0.0000,  0.0000,  0.0000,\n",
       "            0.0000,  0.0000,  0.0000,  0.0000,  0.0000,  0.0000,  0.0000]]]),\n",
       " tensor(6))"
      ]
     },
     "execution_count": 262,
     "metadata": {},
     "output_type": "execute_result"
    }
   ],
   "source": []
  },
  {
   "cell_type": "code",
   "execution_count": null,
   "metadata": {
    "collapsed": true
   },
   "outputs": [],
   "source": []
  }
 ],
 "metadata": {
  "kernelspec": {
   "display_name": "Python 3",
   "language": "python",
   "name": "python3"
  },
  "language_info": {
   "codemirror_mode": {
    "name": "ipython",
    "version": 3
   },
   "file_extension": ".py",
   "mimetype": "text/x-python",
   "name": "python",
   "nbconvert_exporter": "python",
   "pygments_lexer": "ipython3",
   "version": "3.6.4"
  }
 },
 "nbformat": 4,
 "nbformat_minor": 2
}
