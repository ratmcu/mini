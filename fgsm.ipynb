{
 "cells": [
  {
   "cell_type": "code",
   "execution_count": 8,
   "metadata": {
    "collapsed": true
   },
   "outputs": [],
   "source": [
    "%matplotlib inline\n",
    "import numpy as np\n",
    "import torch\n",
    "from torch import nn\n",
    "import torch.nn.functional as F\n",
    "from torch import optim\n",
    "from torch.autograd import Variable\n",
    "from torchvision import datasets, transforms\n",
    "import torch.nn as nn\n",
    "import models.cnn\n",
    "import matplotlib.pyplot as plt\n",
    "import matplotlib.image as mpimg"
   ]
  },
  {
   "cell_type": "code",
   "execution_count": 2,
   "metadata": {},
   "outputs": [
    {
     "name": "stdout",
     "output_type": "stream",
     "text": [
      "Downloading http://yann.lecun.com/exdb/mnist/train-images-idx3-ubyte.gz\n",
      "Downloading http://yann.lecun.com/exdb/mnist/train-labels-idx1-ubyte.gz\n",
      "Downloading http://yann.lecun.com/exdb/mnist/t10k-images-idx3-ubyte.gz\n",
      "Downloading http://yann.lecun.com/exdb/mnist/t10k-labels-idx1-ubyte.gz\n",
      "Processing...\n",
      "Done!\n",
      "Epoch [1/5], Step [100/469], Loss: 0.1156\n",
      "Epoch [1/5], Step [200/469], Loss: 0.0567\n",
      "Epoch [1/5], Step [300/469], Loss: 0.0358\n",
      "Epoch [1/5], Step [400/469], Loss: 0.0329\n",
      "Epoch [2/5], Step [100/469], Loss: 0.0277\n",
      "Epoch [2/5], Step [200/469], Loss: 0.0211\n",
      "Epoch [2/5], Step [300/469], Loss: 0.0160\n",
      "Epoch [2/5], Step [400/469], Loss: 0.0181\n",
      "Epoch [3/5], Step [100/469], Loss: 0.0275\n",
      "Epoch [3/5], Step [200/469], Loss: 0.0145\n",
      "Epoch [3/5], Step [300/469], Loss: 0.0160\n",
      "Epoch [3/5], Step [400/469], Loss: 0.0140\n",
      "Epoch [4/5], Step [100/469], Loss: 0.0095\n",
      "Epoch [4/5], Step [200/469], Loss: 0.0100\n",
      "Epoch [4/5], Step [300/469], Loss: 0.0140\n",
      "Epoch [4/5], Step [400/469], Loss: 0.0084\n",
      "Epoch [5/5], Step [100/469], Loss: 0.0089\n",
      "Epoch [5/5], Step [200/469], Loss: 0.0094\n",
      "Epoch [5/5], Step [300/469], Loss: 0.0107\n",
      "Epoch [5/5], Step [400/469], Loss: 0.0044\n"
     ]
    }
   ],
   "source": [
    "batch_size = 128\n",
    "train_loader = torch.utils.data.DataLoader(\n",
    "  datasets.MNIST('data', train=True, download=True,\n",
    "                 transform=transforms.ToTensor()),\n",
    "  batch_size=batch_size, shuffle=True)\n",
    "\n",
    "input_size = 784\n",
    "num_classes = 10\n",
    "num_epochs = 5\n",
    "batch_size = 100\n",
    "learning_rate = 0.001\n",
    "hp = {'input_size':input_size,\n",
    "      'num_classes':num_classes,\n",
    "      'num_epochs':num_epochs,\n",
    "      'batch_size':batch_size ,\n",
    "      'learning_rate':learning_rate,\n",
    "      'hidden_n':1000}\n",
    "\n",
    "cnn = models.cnn.ConvNet(hp) # models/cnn.py could be edited to change the network\n",
    "cnn.train(train_loader)"
   ]
  },
  {
   "cell_type": "code",
   "execution_count": 9,
   "metadata": {
    "collapsed": true
   },
   "outputs": [],
   "source": [
    "mnist_dataset = datasets.MNIST('data', train=True, download=True, transform=transforms.ToTensor())"
   ]
  },
  {
   "cell_type": "code",
   "execution_count": 39,
   "metadata": {},
   "outputs": [
    {
     "data": {
      "image/png": "[encoded data removed]",
      "text/plain": [
       "<matplotlib.figure.Figure at 0x7f77b9b0f3c8>"
      ]
     },
     "metadata": {},
     "output_type": "display_data"
    }
   ],
   "source": [
    "e,l = mnist_dataset[553]\n",
    "t = e.view(28,28).numpy()\n",
    "x = torch.tensor(e, requires_grad=True)\n",
    "imgplot = plt.imshow(t, cmap='gray')\n"
   ]
  },
  {
   "cell_type": "code",
   "execution_count": 43,
   "metadata": {},
   "outputs": [
    {
     "data": {
      "image/png": "[encoded data removed]",
      "text/plain": [
       "<matplotlib.figure.Figure at 0x7f77b9a7c710>"
      ]
     },
     "metadata": {},
     "output_type": "display_data"
    }
   ],
   "source": [
    "ep = 0.3\n",
    "softmax = nn.Softmax(dim = 1)\n",
    "y = cnn(x.view(-1, 1, 28, 28))# type(p)\n",
    "ll = torch.zeros(10)\n",
    "ll[l] = 1\n",
    "loss = ((y - ll).norm()**2)\n",
    "loss.backward()\n",
    "eta = ep*x.grad.data.sign()\n",
    "x_ = torch.clamp(x+eta, 0, 1).detach()\n",
    "img = x_.view(28, 28).numpy()\n",
    "imgplot = plt.imshow(img, cmap='gray')\n",
    "z = cnn(x_.view(-1, 1, 28, 28))"
   ]
  },
  {
   "cell_type": "code",
   "execution_count": 44,
   "metadata": {},
   "outputs": [
    {
     "data": {
      "text/plain": [
       "1"
      ]
     },
     "execution_count": 44,
     "metadata": {},
     "output_type": "execute_result"
    }
   ],
   "source": [
    "correct = softmax(y.detach())\n",
    "adversary = softmax(z.detach())\n",
    "correct.max(1)[1].item()"
   ]
  },
  {
   "cell_type": "code",
   "execution_count": 45,
   "metadata": {},
   "outputs": [
    {
     "data": {
      "image/png": "[encoded data removed]",
      "text/plain": [
       "<matplotlib.figure.Figure at 0x7f77b9acb0b8>"
      ]
     },
     "metadata": {},
     "output_type": "display_data"
    }
   ],
   "source": [
    "plt.xticks(range(0,10))\n",
    "plt.ylim(0,1)\n",
    "line = plt.plot(correct.view(10,-1).numpy(), 'b-', label='correct')\n",
    "plt.xlabel(\"classes\")\n",
    "plt.ylabel(\"probability\")\n",
    "line = plt.plot(adversary.view(10,-1).numpy(), 'r-', label='adversary')\n",
    "plt.legend()\n",
    "plt.savefig('fig1.png')\n",
    "plt.show()"
   ]
  },
  {
   "cell_type": "code",
   "execution_count": 258,
   "metadata": {},
   "outputs": [
    {
     "data": {
      "image/png": "[encoded data removed]",
      "text/plain": [
       "<matplotlib.figure.Figure at 0x7f613b1bfeb8>"
      ]
     },
     "metadata": {},
     "output_type": "display_data"
    }
   ],
   "source": []
  },
  {
   "cell_type": "code",
   "execution_count": null,
   "metadata": {
    "collapsed": true
   },
   "outputs": [],
   "source": []
  }
 ],
 "metadata": {
  "kernelspec": {
   "display_name": "Python 3",
   "language": "python",
   "name": "python3"
  },
  "language_info": {
   "codemirror_mode": {
    "name": "ipython",
    "version": 3
   },
   "file_extension": ".py",
   "mimetype": "text/x-python",
   "name": "python",
   "nbconvert_exporter": "python",
   "pygments_lexer": "ipython3",
   "version": "3.6.4"
  }
 },
 "nbformat": 4,
 "nbformat_minor": 2
}
